{
 "cells": [
  {
   "cell_type": "markdown",
   "metadata": {},
   "source": [
    "# Defining a little GAN for generating images\n",
    "\n",
    "This is based on Francois Chollet's GAN example and uses a convolutional generator and discriminator."
   ]
  },
  {
   "cell_type": "code",
   "execution_count": null,
   "metadata": {
    "colab": {
     "base_uri": "https://localhost:8080/",
     "height": 34
    },
    "colab_type": "code",
    "id": "H-QNCzlJpX5S",
    "outputId": "34a36fe0-6a56-47ae-e951-40cd05099174"
   },
   "outputs": [],
   "source": [
    "## Little conv GAN design from Chollet 2017\n",
    "\n",
    "import keras\n",
    "from keras import layers\n",
    "import numpy as np\n",
    "from IPython.display import Image, display\n",
    "\n",
    "# Data parameters\n",
    "latent_dim = 32\n",
    "height = 32\n",
    "width = 32\n",
    "channels = 3"
   ]
  },
  {
   "cell_type": "code",
   "execution_count": null,
   "metadata": {},
   "outputs": [],
   "source": [
    "# Download data from Charles' UiO webspace.\n",
    "#!wget https://metatonetransfer.com/datasets/gan/Xtrain.npy\n",
    "#!wget https://metatonetransfer.com/datasets/gan/ytrain.npy\n",
    "  \n",
    "X_train = np.load('./Xtrain.npy')\n",
    "y_train = np.load('./ytrain.npy')"
   ]
  },
  {
   "cell_type": "code",
   "execution_count": null,
   "metadata": {},
   "outputs": [],
   "source": [
    "# Get the training data (CIFAR-10)\n",
    "import os\n",
    "from keras.preprocessing import image\n",
    "(x_train, y_train), (_,_) = keras.datasets.cifar10.load_data()\n",
    "x_train = x_train.reshape((x_train.shape[0],) + (height, width, channels)).astype('float32') / 255\n",
    "x_train.shape"
   ]
  },
  {
   "cell_type": "code",
   "execution_count": null,
   "metadata": {
    "colab": {
     "base_uri": "https://localhost:8080/",
     "height": 737
    },
    "colab_type": "code",
    "id": "-udQg5w4p_ei",
    "outputId": "c52d8b84-5de8-4c72-b74d-fdce703e3c4b"
   },
   "outputs": [],
   "source": [
    "# Define the Generator Network.\n",
    "generator_input = keras.Input(shape=(latent_dim,))\n",
    "x = layers.Dense(128* 16 * 16)(generator_input)\n",
    "x = layers.LeakyReLU()(x)\n",
    "x = layers.Reshape((16, 16, 128))(x)\n",
    "x = layers.Conv2D(256, 6, padding='same')(x)\n",
    "x = layers.LeakyReLU()(x)\n",
    "x = layers.Conv2DTranspose(256, 4, strides=2, padding=\"same\")(x)\n",
    "x = layers.LeakyReLU()(x)\n",
    "x = layers.Conv2D(256, 5, padding='same')(x)\n",
    "x = layers.LeakyReLU()(x)\n",
    "x = layers.Conv2D(256, 5, padding='same')(x)\n",
    "x = layers.LeakyReLU()(x)\n",
    "x = layers.Conv2D(channels, 7, activation='tanh', padding='same')(x)\n",
    "generator = keras.models.Model(generator_input, x)\n",
    "generator.summary()"
   ]
  },
  {
   "cell_type": "code",
   "execution_count": null,
   "metadata": {
    "colab": {
     "base_uri": "https://localhost:8080/",
     "height": 788
    },
    "colab_type": "code",
    "id": "_-We9rCgqrs2",
    "outputId": "80a07246-5efc-4732-b830-17e7b426995b"
   },
   "outputs": [],
   "source": [
    "# Define the discriminator newtork\n",
    "discriminator_input = layers.Input(shape=(height, width, channels))\n",
    "x = layers.Conv2D(128,3)(discriminator_input)\n",
    "x = layers.LeakyReLU()(x)\n",
    "x = layers.Conv2D(128,4,strides=2)(x)\n",
    "x = layers.LeakyReLU()(x)\n",
    "x = layers.Conv2D(128,4,strides=2)(x)\n",
    "x = layers.LeakyReLU()(x)\n",
    "x = layers.Conv2D(128,4,strides=2)(x)\n",
    "x = layers.LeakyReLU()(x)\n",
    "x = layers.Flatten()(x)\n",
    "x = layers.Dropout(0.4)(x)\n",
    "x = layers.Dense(1, activation='sigmoid')(x)\n",
    "discriminator = keras.models.Model(discriminator_input, x)\n",
    "discriminator.summary()\n",
    "discriminator_optimizer = keras.optimizers.RMSprop(lr=0.0008, clipvalue=1.0, decay=1e-8)\n",
    "discriminator.compile(optimizer=discriminator_optimizer, loss=\"binary_crossentropy\")\n"
   ]
  },
  {
   "cell_type": "code",
   "execution_count": null,
   "metadata": {
    "colab": {},
    "colab_type": "code",
    "id": "C_OxmS8orbuL"
   },
   "outputs": [],
   "source": [
    "# Define the complete adversarial network.\n",
    "discriminator.trainable = False # set disc weights to be static (but just for this combined network)\n",
    "gan_input = keras.Input(shape=(latent_dim,))\n",
    "gan_output = discriminator(generator(gan_input))\n",
    "gan= keras.models.Model(gan_input, gan_output)\n",
    "gan_optimizer = keras.optimizers.RMSprop(lr=0.0004, clipvalue=1.0, decay=1e-8)\n",
    "gan.compile(optimizer=gan_optimizer, loss='binary_crossentropy')"
   ]
  },
  {
   "cell_type": "code",
   "execution_count": null,
   "metadata": {
    "colab": {
     "base_uri": "https://localhost:8080/",
     "height": 34
    },
    "colab_type": "code",
    "id": "1_nKh8V9r0qU",
    "outputId": "54ee8b64-1da5-42e5-932a-1743e46f4cdb"
   },
   "outputs": [],
   "source": [
    "# Training Parameters\n",
    "iterations = 100000\n",
    "batch_size = 128\n",
    "save_dir = '.'"
   ]
  },
  {
   "cell_type": "code",
   "execution_count": null,
   "metadata": {
    "colab": {
     "base_uri": "https://localhost:8080/",
     "height": 111
    },
    "colab_type": "code",
    "id": "_qCsmG2Qvrcd",
    "outputId": "a4b30628-96b9-4cac-d2b6-abd1622c180a"
   },
   "outputs": [],
   "source": [
    "start = 0\n",
    "for step in range(iterations):\n",
    "  random_latent_vectors = np.random.normal(size=(batch_size, latent_dim))\n",
    "  generated_images = generator.predict(random_latent_vectors)\n",
    "  stop = start + batch_size\n",
    "  real_images = x_train[start:stop]\n",
    "  combined_images = np.concatenate([generated_images, real_images])\n",
    "  labels = np.concatenate([np.ones((batch_size, 1)), np.zeros((batch_size, 1))])\n",
    "  labels += 0.05 * np.random.random(labels.shape)\n",
    "  d_loss = discriminator.train_on_batch(combined_images, labels)\n",
    "  random_latent_vectors = np.random.normal(size=(batch_size, latent_dim))\n",
    "  misleading_targets = np.zeros((batch_size, 1))\n",
    "  a_loss = gan.train_on_batch(random_latent_vectors, misleading_targets)\n",
    "  start += batch_size\n",
    "  if start > len(x_train) - batch_size:\n",
    "    start = 0\n",
    "  if step % 100 == 0:\n",
    "    gan.save_weights('gan.h5')\n",
    "    print('step', step, '; disc loss', d_loss, '; ad loss', a_loss)"
   ]
  },
  {
   "cell_type": "code",
   "execution_count": null,
   "metadata": {
    "colab": {},
    "colab_type": "code",
    "id": "tRWou0ShlV4N"
   },
   "outputs": [],
   "source": [
    "# Generate a bunch of data\n",
    "random_latent_vectors = np.random.normal(size=(16, latent_dim))\n",
    "generated_images = generator.predict(random_latent_vectors)\n",
    "\n",
    "for gen in generated_images:\n",
    "  img = image.array_to_img(gen * 255., scale=False)\n",
    "  display(img.resize((240, 240)))"
   ]
  }
 ],
 "metadata": {
  "accelerator": "GPU",
  "colab": {
   "collapsed_sections": [],
   "name": "little-gan.ipynb",
   "provenance": [],
   "version": "0.3.2"
  },
  "kernelspec": {
   "display_name": "Python 3 (ipykernel)",
   "language": "python",
   "name": "python3"
  },
  "language_info": {
   "codemirror_mode": {
    "name": "ipython",
    "version": 3
   },
   "file_extension": ".py",
   "mimetype": "text/x-python",
   "name": "python",
   "nbconvert_exporter": "python",
   "pygments_lexer": "ipython3",
   "version": "3.8.12"
  }
 },
 "nbformat": 4,
 "nbformat_minor": 4
}
