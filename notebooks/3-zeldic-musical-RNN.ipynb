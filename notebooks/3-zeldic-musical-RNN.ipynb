{
 "cells": [
  {
   "cell_type": "code",
   "execution_count": 1,
   "metadata": {},
   "outputs": [
    {
     "name": "stderr",
     "output_type": "stream",
     "text": [
      "Using TensorFlow backend.\n"
     ]
    }
   ],
   "source": [
    "# Imports\n",
    "from music21 import converter, instrument, note, chord, stream, midi\n",
    "import glob\n",
    "import time\n",
    "import numpy as np\n",
    "import keras.utils as utils\n",
    "import pandas as pd"
   ]
  },
  {
   "cell_type": "markdown",
   "metadata": {},
   "source": [
    "# Music Generation with an RNN\n",
    "\n",
    "- Music is a complex phenomenon with many representations (e.g., digital audio, musical scores, lead sheets)\n",
    "- A simple representation of music is as a sequence of notes and rests:\n",
    "    - (equivalent to one line of melody)\n",
    "- This can be one-hot encoded and applied to a CharRNN!\n",
    "\n",
    "## A simple music representation\n",
    "\n",
    "- Our musical representation is going be a sequence of integers between 0 and 129.\n",
    "- Each integer represents a musical instruction lasting for one sixteenth note (one semiquaver) of duration.\n",
    "    - This is a typical level of detail for electronic music sequencers.\n",
    "- MIDI is a standard way of encoding instructions for synthesised instruments and can represent whole musical scores.\n",
    "    - Standard MIDI allows 128 pitches (there are only 88 on a piano keyboard) where number 60 is 'middle C'.\n",
    "    \n",
    "#### Melody-RNN Encoding\n",
    "\n",
    "- 0-127 play a note at that MIDI note number. (`MELODY_NOTE_ON`)\n",
    "- 128 stop whatever note was playing. (`MELODY_NOTE_OFF`)\n",
    "- 129 do nothing. (`MELODY_NO_EVENT`)\n",
    "    \n",
    "This encoding should allow long notes (a note-on followed by one or more no-change events, then a note-off), and rests (a note-off followed by one or more no-change events).\n",
    "\n",
    "Here's a standard melody converted into this format:\n",
    "\n",
    "![](figures/wm_score_example.png)\n",
    "\n",
    "NB: Google's [Magenta project](https://magenta.tensorflow.org/) have created some really great musical RNNs, with lots of advanced features. This script focusses on simplicity and clarity instead!"
   ]
  },
  {
   "cell_type": "markdown",
   "metadata": {},
   "source": [
    "### Convert between MIDI files and numpy arrays in melody format\n",
    "\n",
    "- Music is more complex than text (e.g., more than one note might happen at once). \n",
    "- We use the Music21 library to read MIDI music filescand then convert to our Melody-RNN format.\n",
    "- The functions below turn a Music21 \"stream\" (of notes) into a numpy array of 8-bit integers.\n",
    "- All complex rhythms are simplified to sixteenth note versions.\n",
    "- Chords are simplified to the highest note.\n",
    "\n"
   ]
  },
  {
   "cell_type": "code",
   "execution_count": 2,
   "metadata": {},
   "outputs": [],
   "source": [
    "# Melody-RNN Format is a sequence of 8-bit integers indicating the following:\n",
    "# MELODY_NOTE_ON = [0, 127] # (note on at that MIDI pitch)\n",
    "MELODY_NOTE_OFF = 128 # (stop playing all previous notes)\n",
    "MELODY_NO_EVENT = 129 # (no change from previous event)\n",
    "# Each element in the sequence lasts for one sixteenth note.\n",
    "# This can encode monophonic music only.\n",
    "\n",
    "def streamToNoteArray(stream):\n",
    "    \"\"\"\n",
    "    Convert a Music21 sequence to a numpy array of int8s into Melody-RNN format:\n",
    "        0-127 - note on at specified pitch\n",
    "        128   - note off\n",
    "        129   - no event\n",
    "    \"\"\"\n",
    "    # Part one, extract from stream\n",
    "    total_length = np.int(np.round(stream.flat.highestTime / 0.25)) # in semiquavers\n",
    "    stream_list = []\n",
    "    for element in stream.flat:\n",
    "        if isinstance(element, note.Note):\n",
    "            stream_list.append([np.round(element.offset / 0.25), np.round(element.quarterLength / 0.25), element.pitch.midi])\n",
    "        elif isinstance(element, chord.Chord):\n",
    "            stream_list.append([np.round(element.offset / 0.25), np.round(element.quarterLength / 0.25), element.sortAscending().pitches[-1].midi])\n",
    "    np_stream_list = np.array(stream_list, dtype=np.int)\n",
    "    df = pd.DataFrame({'pos': np_stream_list.T[0], 'dur': np_stream_list.T[1], 'pitch': np_stream_list.T[2]})\n",
    "    df = df.sort_values(['pos','pitch'], ascending=[True, False]) # sort the dataframe properly\n",
    "    df = df.drop_duplicates(subset=['pos']) # drop duplicate values\n",
    "    # part 2, convert into a sequence of note events\n",
    "    output = np.zeros(total_length+1, dtype=np.int16) + np.int16(MELODY_NO_EVENT)  # set array full of no events by default.\n",
    "    # Fill in the output list\n",
    "    for i in range(total_length):\n",
    "        if not df[df.pos==i].empty:\n",
    "            n = df[df.pos==i].iloc[0] # pick the highest pitch at each semiquaver\n",
    "            output[i] = n.pitch # set note on\n",
    "            output[i+n.dur] = MELODY_NOTE_OFF\n",
    "    return output\n",
    "\n",
    "\n",
    "def noteArrayToDataFrame(note_array):\n",
    "    \"\"\"\n",
    "    Convert a numpy array containing a Melody-RNN sequence into a dataframe.\n",
    "    \"\"\"\n",
    "    df = pd.DataFrame({\"code\": note_array})\n",
    "    df['offset'] = df.index\n",
    "    df['duration'] = df.index\n",
    "    df = df[df.code != MELODY_NO_EVENT]\n",
    "    df.duration = df.duration.diff(-1) * -1 * 0.25  # calculate durations and change to quarter note fractions\n",
    "    df = df.fillna(0.25)\n",
    "    return df[['code','duration']]\n",
    "\n",
    "\n",
    "def noteArrayToStream(note_array):\n",
    "    \"\"\"\n",
    "    Convert a numpy array containing a Melody-RNN sequence into a music21 stream.\n",
    "    \"\"\"\n",
    "    df = noteArrayToDataFrame(note_array)\n",
    "    melody_stream = stream.Stream()\n",
    "    for index, row in df.iterrows():\n",
    "        if row.code == MELODY_NO_EVENT:\n",
    "            new_note = note.Rest() # bit of an oversimplification, doesn't produce long notes.\n",
    "        elif row.code == MELODY_NOTE_OFF:\n",
    "            new_note = note.Rest()\n",
    "        else:\n",
    "            new_note = note.Note(row.code)\n",
    "        new_note.quarterLength = row.duration\n",
    "        melody_stream.append(new_note)\n",
    "    return melody_stream\n"
   ]
  },
  {
   "cell_type": "code",
   "execution_count": null,
   "metadata": {},
   "outputs": [],
   "source": [
    "## Play a melody stream\n",
    "# sp = midi.realtime.StreamPlayer(melody_stream)\n",
    "# sp.play()"
   ]
  },
  {
   "cell_type": "code",
   "execution_count": 3,
   "metadata": {},
   "outputs": [
    {
     "data": {
      "image/png": "[encoded data removed]",
      "text/plain": [
       "<IPython.core.display.Image object>"
      ]
     },
     "metadata": {
      "image/png": {
       "height": 80,
       "width": 748
      }
     },
     "output_type": "display_data"
    },
    {
     "name": "stdout",
     "output_type": "stream",
     "text": [
      "[ 69 129 129 129  69 129 129  69  69 129 129 129  66 129 129 129  74 129\n",
      " 129 129  74 129 129  74  73 129 129 129  71 129 129 129 128]\n"
     ]
    },
    {
     "data": {
      "image/png": "[encoded data removed]",
      "text/plain": [
       "<IPython.core.display.Image object>"
      ]
     },
     "metadata": {
      "image/png": {
       "height": 49,
       "width": 748
      }
     },
     "output_type": "display_data"
    }
   ],
   "source": [
    "wm_mid = converter.parse(\"../datasets/waltzing-matilda.mid\")\n",
    "wm_mid.show()\n",
    "wm_mel_rnn = streamToNoteArray(wm_mid)\n",
    "print(wm_mel_rnn)\n",
    "noteArrayToStream(wm_mel_rnn).show()"
   ]
  },
  {
   "cell_type": "markdown",
   "metadata": {},
   "source": [
    "## Construct a dataset of popular melodies\n",
    "\n",
    "Open some midi files and extract the melodies as numpy note sequence arrays."
   ]
  },
  {
   "cell_type": "code",
   "execution_count": null,
   "metadata": {
    "scrolled": false
   },
   "outputs": [],
   "source": [
    "import time\n",
    "midi_files = glob.glob(\"../datasets/*.mid\") # this won't work, no files there.\n",
    "\n",
    "training_arrays = []\n",
    "for f in midi_files:\n",
    "    start = time.clock()\n",
    "    try:\n",
    "        s = converter.parse(f)\n",
    "    except:\n",
    "        continue\n",
    "    arr = streamToNoteArray(s.parts[0])\n",
    "    training_arrays.append(arr)\n",
    "    print(\"Converted:\", f, \"it took\", time.clock() - start)\n",
    "\n",
    "training_dataset = np.array(training_arrays)\n",
    "np.savez('melody_training_dataset.npz', train=training_dataset)"
   ]
  },
  {
   "cell_type": "markdown",
   "metadata": {},
   "source": [
    "# Load Training Data and Create RNN\n",
    "\n",
    "In the following we load in the training dataset, slice the melodies into example sequences and build our Melody RNN."
   ]
  },
  {
   "cell_type": "code",
   "execution_count": 4,
   "metadata": {},
   "outputs": [
    {
     "name": "stdout",
     "output_type": "stream",
     "text": [
      "Training melodies: 186\n"
     ]
    }
   ],
   "source": [
    "# Training Hyperparameters:\n",
    "VOCABULARY_SIZE = 130 # known 0-127 notes + 128 note_off + 129 no_event\n",
    "SEQ_LEN = 30\n",
    "BATCH_SIZE = 64\n",
    "HIDDEN_UNITS = 256\n",
    "EPOCHS = 30\n",
    "SEED = 2345  # 2345 seems to be good.\n",
    "np.random.seed(SEED)\n",
    "\n",
    "with np.load('../datasets/melody_training_dataset.npz') as data:\n",
    "    train_set = data['train']\n",
    "\n",
    "print(\"Training melodies:\", len(train_set))"
   ]
  },
  {
   "cell_type": "code",
   "execution_count": 5,
   "metadata": {},
   "outputs": [
    {
     "name": "stdout",
     "output_type": "stream",
     "text": [
      "Total Training Corpus:\n",
      "X: (122250, 30)\n",
      "y: (122250,)\n",
      "\n",
      "Looking at one example:\n",
      "X: [129 128 129 129 129 129 129  43 129  35 129 129 129  38 129 129 129 128\n",
      " 129 129 129 129 129  31 129  43 129 129 129  41]\n",
      "y: 129\n"
     ]
    }
   ],
   "source": [
    "def slice_sequence_examples(sequence, num_steps):\n",
    "    \"\"\"Slice a sequence into redundant sequences of lenght num_steps.\"\"\"\n",
    "    xs = []\n",
    "    for i in range(len(sequence) - num_steps - 1):\n",
    "        example = sequence[i: i + num_steps]\n",
    "        xs.append(example)\n",
    "    return xs\n",
    "\n",
    "def seq_to_singleton_format(examples):\n",
    "    \"\"\"\n",
    "    Return the examples in seq to singleton format.\n",
    "    \"\"\"\n",
    "    xs = []\n",
    "    ys = []\n",
    "    for ex in examples:\n",
    "        xs.append(ex[:-1])\n",
    "        ys.append(ex[-1])\n",
    "    return (xs,ys)\n",
    "\n",
    "# Prepare training data as X and Y.\n",
    "# This slices the melodies into sequences of length SEQ_LEN+1.\n",
    "# Then, each sequence is split into an X of length SEQ_LEN and a y of length 1.\n",
    "\n",
    "# Slice the sequences:\n",
    "slices = []\n",
    "for seq in train_set:\n",
    "    slices +=  slice_sequence_examples(seq, SEQ_LEN+1)\n",
    "\n",
    "# Split the sequences into Xs and ys:\n",
    "X, y = seq_to_singleton_format(slices)\n",
    "# Convert into numpy arrays.\n",
    "X = np.array(X)\n",
    "y = np.array(y)\n",
    "\n",
    "# Look at the size of the training corpus:\n",
    "print(\"Total Training Corpus:\")\n",
    "print(\"X:\", X.shape)\n",
    "print(\"y:\", y.shape)\n",
    "print()\n",
    "\n",
    "# Have a look at one example:\n",
    "print(\"Looking at one example:\")\n",
    "print(\"X:\", X[95])\n",
    "print(\"y:\", y[95])\n",
    "# Note: Music data is sparser than text, there's lots of 129s (do nothing)\n",
    "# and few examples of any particular note on.\n",
    "# As a result, it's a bit harder to train a melody-rnn."
   ]
  },
  {
   "cell_type": "code",
   "execution_count": null,
   "metadata": {},
   "outputs": [],
   "source": [
    "# Do some stats on the corpus.\n",
    "all_notes = np.concatenate(train_set)\n",
    "print(\"Number of notes:\")\n",
    "print(all_notes.shape)\n",
    "all_notes_df = pd.DataFrame(all_notes)\n",
    "print(\"Notes that do appear:\")\n",
    "unique, counts = np.unique(all_notes, return_counts=True)\n",
    "print(unique)\n",
    "print(\"Notes that don't appear:\")\n",
    "print(np.setdiff1d(np.arange(0,129),unique))\n",
    "\n",
    "print(\"Plot the relative occurences of each note:\")\n",
    "import matplotlib.pyplot as plt\n",
    "%matplotlib inline\n",
    "\n",
    "#plt.style.use('dark_background')\n",
    "plt.bar(unique, counts)\n",
    "plt.yscale('log')\n",
    "plt.xlabel('melody RNN value')\n",
    "plt.ylabel('occurences (log scale)')"
   ]
  },
  {
   "cell_type": "markdown",
   "metadata": {},
   "source": [
    "# Define the Training RNN\n",
    "\n",
    "- The training RNN will be more complex than in the text examples.\n",
    "- Using 2 layers of LSTM 256 LSTM cells each.\n",
    "- Using an Embedding layer on the input (saves some effort in creating one-hot examples)\n",
    "- Using sparse categorical cross entropy for loss (so that ys don't have to be one-hot)"
   ]
  },
  {
   "cell_type": "code",
   "execution_count": null,
   "metadata": {},
   "outputs": [],
   "source": [
    "import keras\n",
    "from keras.models import Sequential\n",
    "from keras.layers import Dense, Activation\n",
    "from keras.layers import LSTM, Dropout\n",
    "from keras.layers.embeddings import Embedding\n",
    "from keras.optimizers import RMSprop\n",
    "from keras.utils.data_utils import get_file\n",
    "from keras.models import load_model\n",
    "\n",
    "# build the model: 2-layer LSTM network.\n",
    "# Using Embedding layer and sparse_categorical_crossentropy loss function \n",
    "# to save some effort in preparing data.\n",
    "\n",
    "print('Build model...')\n",
    "model_train = Sequential()\n",
    "model_train.add(Embedding(VOCABULARY_SIZE, HIDDEN_UNITS, input_length=SEQ_LEN))\n",
    "\n",
    "# LSTM part\n",
    "model_train.add(LSTM(HIDDEN_UNITS, return_sequences=True))\n",
    "model_train.add(LSTM(HIDDEN_UNITS))\n",
    "\n",
    "# Project back to vocabulary\n",
    "model_train.add(Dense(VOCABULARY_SIZE, activation='softmax'))\n",
    "model_train.compile(loss='sparse_categorical_crossentropy', optimizer='adam')\n",
    "model_train.summary()"
   ]
  },
  {
   "cell_type": "markdown",
   "metadata": {},
   "source": [
    "# Training\n",
    "\n",
    "- I trained this model on Google's Colaboratory system (free online Python machine learning environment, including GPU).\n",
    "- Good to train for lots of epochs, I tried for 100: less is possible.\n",
    "- Takes around 3 minutes per epoch on an NVidia K80 GPU = 5 hours to train.\n",
    "\n",
    "Here's the training diagram:\n",
    "\n",
    "<img src=\"figures/training_melody_rnn.png\" style=\"width: 600px;\"/>\n",
    "\n",
    "Probably could have stopped after about 50 epochs to save some time!\n",
    "\n",
    "This trained model is included in the repo, so you can go ahead and load that, or train again with your own dataset."
   ]
  },
  {
   "cell_type": "code",
   "execution_count": null,
   "metadata": {},
   "outputs": [],
   "source": [
    "# Train the model (this takes time)\n",
    "model_train.fit(X, y, batch_size=BATCH_SIZE, epochs=EPOCHS)\n",
    "model_train.save(\"zeldic-rnn.h5\")"
   ]
  },
  {
   "cell_type": "code",
   "execution_count": null,
   "metadata": {},
   "outputs": [],
   "source": [
    "# Load if necessary - don't need to do this.\n",
    "# model_train = keras.models.load_model(\"zeldic-rnn.h5\")"
   ]
  },
  {
   "cell_type": "markdown",
   "metadata": {},
   "source": [
    "# Decoding Model\n",
    "\n",
    "Now we build a 1-in, 1-out model for encoding. This is the same model as for training, just with a input length of 1, and LSTM statefulness turned on.\n",
    "\n",
    "- Much faster to use the network with this model!\n",
    "- The weights are loaded directly from the saved `train_model` file."
   ]
  },
  {
   "cell_type": "code",
   "execution_count": null,
   "metadata": {},
   "outputs": [],
   "source": [
    "# Build a decoding model (input length 1, batch size 1, stateful)\n",
    "model_dec = Sequential()\n",
    "model_dec.add(Embedding(VOCABULARY_SIZE, HIDDEN_UNITS, input_length=1, batch_input_shape=(1,1)))\n",
    "# LSTM part\n",
    "model_dec.add(LSTM(HIDDEN_UNITS, stateful=True, return_sequences=True))\n",
    "model_dec.add(LSTM(HIDDEN_UNITS, stateful=True))\n",
    "\n",
    "# project back to vocabulary\n",
    "model_dec.add(Dense(VOCABULARY_SIZE, activation='softmax'))\n",
    "model_dec.compile(loss='sparse_categorical_crossentropy', optimizer='adam')\n",
    "model_dec.summary()\n",
    "# set weights from training model\n",
    "#model_dec.set_weights(model_train.get_weights())\n",
    "model_dec.load_weights(\"zeldic-rnn.h5\")"
   ]
  },
  {
   "cell_type": "markdown",
   "metadata": {},
   "source": [
    "# Sampling from the Model\n",
    "\n",
    "- We need define two functions for sampling:\n",
    "    - `sample`: samples from the categorical distribution output by the model, with a diversity adjustment procedure.\n",
    "    - `sample_model`: samples number of notes from the model using a one-note seed."
   ]
  },
  {
   "cell_type": "code",
   "execution_count": null,
   "metadata": {},
   "outputs": [],
   "source": [
    "def sample(preds, temperature=1.0):\n",
    "    \"\"\" helper function to sample an index from a probability array\"\"\"\n",
    "    preds = np.asarray(preds).astype('float64')\n",
    "    preds = np.log(preds) / temperature\n",
    "    exp_preds = np.exp(preds)\n",
    "    preds = exp_preds / np.sum(exp_preds)\n",
    "    probas = np.random.multinomial(1, preds, 1)\n",
    "    return np.argmax(probas)\n",
    "\n",
    "## Sampling function\n",
    "\n",
    "def sample_model(seed, model_name, length=400):\n",
    "    '''Samples a musicRNN given a seed sequence.'''\n",
    "    generated = []  \n",
    "    generated.append(seed)\n",
    "    next_index = seed\n",
    "    for i in range(length):\n",
    "        x = np.array([next_index])\n",
    "        x = np.reshape(x,(1,1))\n",
    "        preds = model_name.predict(x, verbose=0)[0]\n",
    "        next_index = sample(preds, 1.0)        \n",
    "        generated.append(next_index)\n",
    "    return np.array(generated)"
   ]
  },
  {
   "cell_type": "markdown",
   "metadata": {},
   "source": [
    "# Let's sample some music!\n",
    "\n",
    "- Generate 127 notes + the starting note 60 (middle C) - this corresponds to 8 bars of melody\n",
    "- Turn the sequence back into a music21 stream\n",
    "- Show as musial score, play it back, or save as a MIDI file!\n",
    "\n"
   ]
  },
  {
   "cell_type": "code",
   "execution_count": null,
   "metadata": {},
   "outputs": [],
   "source": [
    "model_dec.reset_states() # Start with LSTM state blank\n",
    "o = sample_model(62, model_dec, length=127) # generate 8 bars of melody\n",
    "\n",
    "melody_stream = noteArrayToStream(o) # turn into a music21 stream\n",
    "melody_stream.show() # show the score.\n"
   ]
  },
  {
   "cell_type": "markdown",
   "metadata": {},
   "source": [
    "![](figures/music_example.png)"
   ]
  },
  {
   "cell_type": "markdown",
   "metadata": {},
   "source": [
    "# Play generated Melody\n",
    "\n",
    "music21 can even play back a generated melody right in Jupyter! Cool!"
   ]
  },
  {
   "cell_type": "code",
   "execution_count": null,
   "metadata": {},
   "outputs": [],
   "source": [
    "## Pay a melody stream\n",
    "sp = midi.realtime.StreamPlayer(melody_stream)\n",
    "sp.play()"
   ]
  }
 ],
 "metadata": {
  "kernelspec": {
   "display_name": "Python 3",
   "language": "python",
   "name": "python3"
  },
  "language_info": {
   "codemirror_mode": {
    "name": "ipython",
    "version": 3
   },
   "file_extension": ".py",
   "mimetype": "text/x-python",
   "name": "python",
   "nbconvert_exporter": "python",
   "pygments_lexer": "ipython3",
   "version": "3.6.5"
  }
 },
 "nbformat": 4,
 "nbformat_minor": 2
}
