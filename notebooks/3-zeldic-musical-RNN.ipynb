{
 "cells": [
  {
   "cell_type": "code",
   "execution_count": 1,
   "metadata": {},
   "outputs": [
    {
     "name": "stderr",
     "output_type": "stream",
     "text": [
      "Using TensorFlow backend.\n"
     ]
    }
   ],
   "source": [
    "# Imports\n",
    "from music21 import converter, instrument, note, chord, stream, midi\n",
    "import glob\n",
    "import time\n",
    "import numpy as np\n",
    "import keras.utils as utils\n",
    "import pandas as pd"
   ]
  },
  {
   "cell_type": "markdown",
   "metadata": {},
   "source": [
    "# Convert between MIDI files and numpy arrays in melody format\n",
    "\n"
   ]
  },
  {
   "cell_type": "code",
   "execution_count": 2,
   "metadata": {},
   "outputs": [],
   "source": [
    "# Melody Events.\n",
    "# MIDI Notes are between 0 - 127, so use\n",
    "MELODY_NOTE_OFF = 128 # -1 # 128\n",
    "MELODY_NO_EVENT = 129 # -2 # 129\n",
    "\n",
    "\n",
    "def streamToNoteArray(stream):\n",
    "    \"\"\"\n",
    "    Convert a Music21 sequence to a numpy array of int8s in Magenta melody format:\n",
    "        0-127 - note on at specified pitch\n",
    "        -1    - note off\n",
    "        -2    - no event\n",
    "    \"\"\"\n",
    "    # Part one, extract from stream\n",
    "    total_length = np.int(np.round(stream.flat.highestTime / 0.25)) # in semiquavers\n",
    "    stream_list = []\n",
    "    for element in stream.flat:\n",
    "        if isinstance(element, note.Note):\n",
    "            stream_list.append([np.round(element.offset / 0.25), np.round(element.quarterLength / 0.25), element.pitch.midi])\n",
    "        elif isinstance(element, chord.Chord):\n",
    "            stream_list.append([np.round(element.offset / 0.25), np.round(element.quarterLength / 0.25), element.sortAscending().pitches[-1].midi])\n",
    "    np_stream_list = np.array(stream_list, dtype=np.int)\n",
    "    df = pd.DataFrame({'pos': np_stream_list.T[0], 'dur': np_stream_list.T[1], 'pitch': np_stream_list.T[2]})\n",
    "    df = df.sort_values(['pos','pitch'], ascending=[True, False]) # sort the dataframe properly\n",
    "    df = df.drop_duplicates(subset=['pos']) # drop duplicate values\n",
    "    # part 2, convert into a sequence of note events\n",
    "    output = np.zeros(total_length+1, dtype=np.int16) + np.int16(MELODY_NO_EVENT)  # set array full of no events by default.\n",
    "    # Fill in the output list\n",
    "    for i in range(total_length):\n",
    "        if not df[df.pos==i].empty:\n",
    "            n = df[df.pos==i].iloc[0] # pick the highest pitch at each semiquaver\n",
    "            output[i] = n.pitch # set note on\n",
    "            output[i+n.dur] = MELODY_NOTE_OFF\n",
    "    return output\n",
    "\n",
    "\n",
    "def noteArrayToDataFrame(note_array):\n",
    "    \"\"\"\n",
    "    Convert a numpy array containing a Magenta melody sequence into a music21 stream.\n",
    "    \"\"\"\n",
    "    df = pd.DataFrame({\"code\": note_array})\n",
    "    df['offset'] = df.index\n",
    "    df['duration'] = df.index\n",
    "    df = df[df.code != MELODY_NO_EVENT]\n",
    "    df.duration = df.duration.diff(-1) * -1 * 0.25  # calculate durations and change to quarter note fractions\n",
    "    df = df.fillna(0.25)\n",
    "    return df[['code','duration']]\n",
    "\n",
    "\n",
    "def noteArrayToStream(note_array):\n",
    "    \"\"\"\n",
    "    Convert a numpy array containing a Magenta melody sequence into a music21 stream.\n",
    "    \"\"\"\n",
    "    df = noteArrayToDataFrame(note_array)\n",
    "    melody_stream = stream.Stream()\n",
    "    for index, row in df.iterrows():\n",
    "        if row.code < 0:\n",
    "            new_note = note.Rest()\n",
    "        else:\n",
    "            new_note = note.Note(row.code)\n",
    "        new_note.quarterLength = row.duration\n",
    "        melody_stream.append(new_note)\n",
    "    return melody_stream\n"
   ]
  },
  {
   "cell_type": "code",
   "execution_count": 94,
   "metadata": {},
   "outputs": [],
   "source": [
    "## Play a melody stream\n",
    "# sp = midi.realtime.StreamPlayer(melody_stream)\n",
    "# sp.play()"
   ]
  },
  {
   "cell_type": "markdown",
   "metadata": {},
   "source": [
    "## Construct a dataset of popular Zelda melodies\n",
    "\n",
    "Open some zelda midi files and extract the melodies as numpy note sequence arrays."
   ]
  },
  {
   "cell_type": "code",
   "execution_count": 3,
   "metadata": {},
   "outputs": [],
   "source": [
    "# test_midi = converter.parse(loz_midi_files[2])\n",
    "# print(\"Length:\", np.int(np.round(test_midi.flat.highestTime / 0.25))) # in semiquavers"
   ]
  },
  {
   "cell_type": "code",
   "execution_count": 2,
   "metadata": {},
   "outputs": [],
   "source": [
    "# import time\n",
    "# loz_midi_files = glob.glob(\"/Users/charles/src/zelda-mid/loz-*.mid\")\n",
    "# midi_files = glob.glob(\"/Users/charles/src/zelda-mid/*.mid\")\n",
    "\n"
   ]
  },
  {
   "cell_type": "code",
   "execution_count": 9,
   "metadata": {},
   "outputs": [],
   "source": [
    "# test_midi.parts[0].show()"
   ]
  },
  {
   "cell_type": "code",
   "execution_count": 11,
   "metadata": {
    "scrolled": true
   },
   "outputs": [
    {
     "name": "stdout",
     "output_type": "stream",
     "text": [
      "Converted: /Users/charles/src/zelda-mid/z64oot-z64shop.mid it took 0.9873979999999989\n",
      "Converted: /Users/charles/src/zelda-mid/loz-Title08.mid it took 1.2644809999999964\n",
      "Converted: /Users/charles/src/zelda-mid/lozoos-taamuruins.mid it took 15.877151000000005\n",
      "Converted: /Users/charles/src/zelda-mid/lozmm-Termina.mid it took 10.766751\n",
      "Converted: /Users/charles/src/zelda-mid/z64oot-z64inwml.mid it took 1.511412\n",
      "Converted: /Users/charles/src/zelda-mid/lozoos-Zelda-_Windmill_2.mid it took 0.741297000000003\n",
      "Converted: /Users/charles/src/zelda-mid/lozph-PHboss_ship.mid it took 1.6072680000000048\n",
      "Converted: /Users/charles/src/zelda-mid/loz-Title09.mid it took 0.3678329999999903\n",
      "Converted: /Users/charles/src/zelda-mid/lozww-Dawn.mid it took 0.7721289999999925\n",
      "Converted: /Users/charles/src/zelda-mid/z64oot-z64intro.mid it took 0.7769020000000069\n",
      "Converted: /Users/charles/src/zelda-mid/lozww-The_king_of_hyrule.mid it took 0.8215320000000048\n",
      "Converted: /Users/charles/src/zelda-mid/lozoos-Zelda-_Windmill_1.mid it took 1.613697000000002\n",
      "Converted: /Users/charles/src/zelda-mid/z64oot-kakariko.mid it took 12.416462999999993\n",
      "Converted: /Users/charles/src/zelda-mid/z64oot-z64jabu.mid it took 0.441324999999992\n",
      "Converted: /Users/charles/src/zelda-mid/Z4turtle.mid it took 2.3812680000000057\n",
      "Converted: /Users/charles/src/zelda-mid/Z4finalboss.mid it took 38.401619\n",
      "Converted: /Users/charles/src/zelda-mid/lozoos-z_OofSsamasadesert.mid it took 5.058742000000009\n",
      "Converted: /Users/charles/src/zelda-mid/z64oot-z64fairy2.mid it took 1.474250999999981\n",
      "Converted: /Users/charles/src/zelda-mid/z3alttp-z3fairy2.mid it took 4.075362999999982\n",
      "Converted: /Users/charles/src/zelda-mid/Z4woods.mid it took 6.17783399999999\n",
      "Converted: /Users/charles/src/zelda-mid/z64oot-z64saria.mid it took 3.7091230000000053\n",
      "Converted: /Users/charles/src/zelda-mid/z64oot-z64lwoo2.mid it took 7.012937999999991\n",
      "Converted: /Users/charles/src/zelda-mid/z64oot-z64zora.mid it took 8.773648000000009\n",
      "Converted: /Users/charles/src/zelda-mid/loz-MedleyRemix.mid it took 0.6885299999999859\n",
      "Converted: /Users/charles/src/zelda-mid/lozooa-ageslev2.mid it took 0.474930999999998\n",
      "Converted: /Users/charles/src/zelda-mid/Z4boss.mid it took 6.125065000000006\n",
      "Converted: /Users/charles/src/zelda-mid/z64oot-z64fount.mid it took 1.6696170000000166\n",
      "Converted: /Users/charles/src/zelda-mid/z64oot-z64fairy.mid it took 1.1827730000000258\n",
      "Converted: /Users/charles/src/zelda-mid/loz-GameOver02.mid it took 1.144927999999993\n",
      "Converted: /Users/charles/src/zelda-mid/lozww-The_awakening_of_Zelda.mid it took 0.1851660000000095\n",
      "Converted: /Users/charles/src/zelda-mid/lozww-Title_screen_2.mid it took 1.4680659999999932\n",
      "Converted: /Users/charles/src/zelda-mid/lozoos-SeasonsGO.mid it took 0.5037489999999991\n",
      "Converted: /Users/charles/src/zelda-mid/z3alttp-z3cave.mid it took 0.5615129999999908\n",
      "Converted: /Users/charles/src/zelda-mid/loz-GameOver01.mid it took 0.9144620000000145\n",
      "Converted: /Users/charles/src/zelda-mid/lozww-Title_screen_3.mid it took 0.9908330000000092\n",
      "Converted: /Users/charles/src/zelda-mid/lozoos-troupe.mid it took 0.9994690000000048\n",
      "Converted: /Users/charles/src/zelda-mid/Z4tailcave.mid it took 0.9533879999999897\n",
      "Converted: /Users/charles/src/zelda-mid/z3alttp-z3intro.mid it took 1.9124070000000017\n",
      "Converted: /Users/charles/src/zelda-mid/z64oot-z64mast.mid it took 0.2213390000000004\n",
      "Converted: /Users/charles/src/zelda-mid/lozph-prelude2.mid it took 0.23873500000001968\n",
      "Converted: /Users/charles/src/zelda-mid/loz-OverworldRemix08.mid it took 15.27979400000001\n",
      "Converted: /Users/charles/src/zelda-mid/Z4gameover.mid it took 1.3294080000000008\n",
      "Converted: /Users/charles/src/zelda-mid/z3alttp-z3credit.mid it took 4.127468999999991\n",
      "Converted: /Users/charles/src/zelda-mid/lozooa-z_OofAinside.mid it took 0.5485970000000009\n",
      "Converted: /Users/charles/src/zelda-mid/loz-Whistle.mid it took 0.031957000000005564\n",
      "Converted: /Users/charles/src/zelda-mid/lozph-prelude3.mid it took 0.19579899999999384\n",
      "Converted: /Users/charles/src/zelda-mid/Z4mountain.mid it took 1.2211360000000013\n",
      "Converted: /Users/charles/src/zelda-mid/lozooa-z_OofAcrowndungeon+.mid it took 5.549727999999988\n",
      "Converted: /Users/charles/src/zelda-mid/lozph-Maison_Goron_-_basoon-timpani-taikodrum.mid it took 1.4732380000000092\n",
      "Converted: /Users/charles/src/zelda-mid/lozph-prelude1.mid it took 0.44542099999998186\n",
      "Converted: /Users/charles/src/zelda-mid/z64oot-z64main.mid it took 1.6921079999999904\n",
      "Converted: /Users/charles/src/zelda-mid/z2-z2town.mid it took 0.9825500000000034\n",
      "Converted: /Users/charles/src/zelda-mid/z3alttp-z3lightw.mid it took 4.815010999999998\n",
      "Converted: /Users/charles/src/zelda-mid/z3alttp-z3ending.mid it took 5.4079539999999895\n",
      "Converted: /Users/charles/src/zelda-mid/lozww-Title_screen.mid it took 0.9376709999999946\n",
      "Converted: /Users/charles/src/zelda-mid/lozoos-z_OofSancientruins.mid it took 2.564855999999992\n",
      "Converted: /Users/charles/src/zelda-mid/lozph-Zelda-1.mid it took 0.35225900000000365\n",
      "Converted: /Users/charles/src/zelda-mid/lozmm-Clock_town.mid it took 2.522804999999977\n",
      "Converted: /Users/charles/src/zelda-mid/lozph-LoH.mid it took 0.7391839999999945\n",
      "Converted: /Users/charles/src/zelda-mid/z2-boss-z2.mid it took 0.18735999999998398\n",
      "Converted: /Users/charles/src/zelda-mid/loz-Triforce01.mid it took 0.09042199999998957\n",
      "Converted: /Users/charles/src/zelda-mid/lozph-prelude4.mid it took 0.9897809999999936\n",
      "Converted: /Users/charles/src/zelda-mid/lozww-The_requiem_of_wind.mid it took 0.04255800000001386\n",
      "Converted: /Users/charles/src/zelda-mid/z64oot-z64morn.mid it took 13.964956999999998\n",
      "Converted: /Users/charles/src/zelda-mid/lozph-PHmonster_ship.mid it took 3.738055000000003\n",
      "Converted: /Users/charles/src/zelda-mid/loz-FinalDungeon01.mid it took 0.502713\n",
      "Converted: /Users/charles/src/zelda-mid/lozph-House.mid it took 1.3545729999999878\n",
      "Converted: /Users/charles/src/zelda-mid/lozph-prelude5.mid it took 0.6755640000000085\n",
      "Converted: /Users/charles/src/zelda-mid/z64oot-z64court.mid it took 0.720735999999988\n",
      "Converted: /Users/charles/src/zelda-mid/loz-Dungeon09.mid it took 2.377532000000002\n",
      "Converted: /Users/charles/src/zelda-mid/lozww-Intro.mid it took 0.7150019999999699\n",
      "Converted: /Users/charles/src/zelda-mid/loz-Triforce02.mid it took 0.08411000000000968\n",
      "Converted: /Users/charles/src/zelda-mid/lozph-ZeldaPhVillageDuDebut.mid it took 0.7317630000000008\n",
      "Converted: /Users/charles/src/zelda-mid/lozww-The_violin_of_Makar.mid it took 0.1249419999999759\n",
      "Converted: /Users/charles/src/zelda-mid/z64oot-z64poe.mid it took 1.9036780000000135\n",
      "Converted: /Users/charles/src/zelda-mid/loz-FinalDungeon03.mid it took 0.6574620000000095\n",
      "Converted: /Users/charles/src/zelda-mid/z3alttp-z3fairy.mid it took 0.5905710000000113\n",
      "Converted: /Users/charles/src/zelda-mid/loz-FinalDungeon02.mid it took 0.5232979999999543\n",
      "Converted: /Users/charles/src/zelda-mid/z64oot-z64ice.mid it took 0.2288920000000303\n",
      "Converted: /Users/charles/src/zelda-mid/lozph-prelude6.mid it took 0.4536340000000223\n",
      "Converted: /Users/charles/src/zelda-mid/loz-Triforce03.mid it took 0.18584099999998216\n",
      "Converted: /Users/charles/src/zelda-mid/lozmm-Intro.mid it took 1.0192089999999894\n",
      "Converted: /Users/charles/src/zelda-mid/loz-Dungeon08.mid it took 1.2520579999999768\n",
      "Converted: /Users/charles/src/zelda-mid/loz-Overworld02.mid it took 6.045412999999996\n",
      "Converted: /Users/charles/src/zelda-mid/loz-Dungeon05.mid it took 0.3659850000000233\n",
      "Converted: /Users/charles/src/zelda-mid/lozmm-Stone_tower.mid it took 1.3115900000000238\n",
      "Converted: /Users/charles/src/zelda-mid/lozph-overworldph.mid it took 0.4524409999999648\n",
      "Converted: /Users/charles/src/zelda-mid/Z4windfishegg.mid it took 1.8623830000000225\n",
      "Converted: /Users/charles/src/zelda-mid/loz-OverworldRemix01.mid it took 17.041930999999977\n",
      "Converted: /Users/charles/src/zelda-mid/lozmm-Bremen_mask.mid it took 0.901014000000032\n",
      "Converted: /Users/charles/src/zelda-mid/lozmm-Windfish_ballad.mid it took 0.17138499999998658\n",
      "Converted: /Users/charles/src/zelda-mid/lozww-Outset_island.mid it took 1.9893330000000446\n",
      "Converted: /Users/charles/src/zelda-mid/z3alttp-z3woods.mid it took 0.5608189999999809\n",
      "Converted: /Users/charles/src/zelda-mid/lozooa-RoadToTheMakuTree.mid it took 0.5185169999999744\n"
     ]
    },
    {
     "name": "stdout",
     "output_type": "stream",
     "text": [
      "Converted: /Users/charles/src/zelda-mid/loz-Dungeon04.mid it took 0.38083699999998544\n",
      "Converted: /Users/charles/src/zelda-mid/loz-Dungeon10.mid it took 2.221993999999995\n",
      "Converted: /Users/charles/src/zelda-mid/loz-Dungeon06.mid it took 0.5965419999999995\n",
      "Converted: /Users/charles/src/zelda-mid/loz-Overworld01.mid it took 1.0618329999999787\n",
      "Converted: /Users/charles/src/zelda-mid/lozph-linebeck_001.mid it took 0.6403460000000223\n",
      "Converted: /Users/charles/src/zelda-mid/lozph-Linebeck.mid it took 1.0812020000000189\n",
      "Converted: /Users/charles/src/zelda-mid/loz-OverworldRemix02.mid it took 2.2887620000000197\n",
      "Converted: /Users/charles/src/zelda-mid/loz-OverworldRemix03.mid it took 6.767319999999984\n",
      "Converted: /Users/charles/src/zelda-mid/Z4catfish.mid it took 30.052436999999998\n",
      "Converted: /Users/charles/src/zelda-mid/lozph-Heart.mid it took 0.0786820000000148\n",
      "Converted: /Users/charles/src/zelda-mid/z2-z2title.mid it took 1.2895340000000033\n",
      "Converted: /Users/charles/src/zelda-mid/loz-Dungeon07.mid it took 0.9988410000000272\n",
      "Converted: /Users/charles/src/zelda-mid/lozoos-z_OofSdancingdragon.mid it took 5.989791000000025\n",
      "Converted: /Users/charles/src/zelda-mid/loz-Dungeon03.mid it took 0.7075079999999616\n",
      "Converted: /Users/charles/src/zelda-mid/lozmm-Clock_tower.mid it took 0.6196529999999711\n",
      "Converted: /Users/charles/src/zelda-mid/z64oot-z64deku.mid it took 1.1186069999999972\n",
      "Converted: /Users/charles/src/zelda-mid/lozww-Earth_gods_lyric.mid it took 0.17084299999999075\n",
      "Converted: /Users/charles/src/zelda-mid/lozoos-templeruins.mid it took 4.622222000000022\n",
      "Converted: /Users/charles/src/zelda-mid/loz-OverworldRemix07.mid it took 10.41417100000001\n",
      "Converted: /Users/charles/src/zelda-mid/z64oot-z64goron.mid it took 1.979255999999964\n",
      "Converted: /Users/charles/src/zelda-mid/loz-OverworldRemix06.mid it took 4.97292299999998\n",
      "Converted: /Users/charles/src/zelda-mid/lozoos-z_OofShoronvillage.mid it took 0.1498690000000238\n",
      "Converted: /Users/charles/src/zelda-mid/Z4boss2.mid it took 1.3503919999999994\n",
      "Converted: /Users/charles/src/zelda-mid/lozph-zph-dungeon.mid it took 2.9424430000000257\n",
      "Converted: /Users/charles/src/zelda-mid/Z4overworld.mid it took 4.597943000000043\n",
      "Converted: /Users/charles/src/zelda-mid/z64oot-z64owl.mid it took 0.555580999999961\n",
      "Converted: /Users/charles/src/zelda-mid/loz-Dungeon02.mid it took 0.34019899999998415\n",
      "Converted: /Users/charles/src/zelda-mid/z64oot-z64ttime.mid it took 0.3154269999999997\n",
      "Converted: /Users/charles/src/zelda-mid/lozooa-z_OofAtokayhouse.mid it took 0.48917900000003556\n",
      "Converted: /Users/charles/src/zelda-mid/Z4credits.mid it took 6.39149900000001\n",
      "Converted: /Users/charles/src/zelda-mid/z64oot-z64lostw.mid it took 1.8657910000000015\n",
      "Converted: /Users/charles/src/zelda-mid/lozph-rendship_PH.mid it took 1.639994999999999\n",
      "Converted: /Users/charles/src/zelda-mid/lozmm-Great_bay.mid it took 0.935685000000035\n",
      "Converted: /Users/charles/src/zelda-mid/lozoos-Subrosia.mid it took 0.36971899999997504\n",
      "Converted: /Users/charles/src/zelda-mid/lozooa-z_OofAnayru'ssong.mid it took 0.23497900000000982\n",
      "Converted: /Users/charles/src/zelda-mid/loz-OverworldRemix04.mid it took 4.434736999999984\n",
      "Converted: /Users/charles/src/zelda-mid/loz-OverworldRemix05.mid it took 10.438077999999962\n",
      "Converted: /Users/charles/src/zelda-mid/z64oot-z64markt.mid it took 2.5461559999999963\n",
      "Converted: /Users/charles/src/zelda-mid/lozph-PH_intro.mid it took 2.0338520000000244\n",
      "Converted: /Users/charles/src/zelda-mid/loz-Dungeon01.mid it took 2.2046139999999923\n",
      "Converted: /Users/charles/src/zelda-mid/z64oot-z64sheik.mid it took 1.5529379999999833\n",
      "Converted: /Users/charles/src/zelda-mid/loz-Title01.mid it took 1.3571300000000406\n",
      "Converted: /Users/charles/src/zelda-mid/Z4house.mid it took 0.7935719999999833\n",
      "Converted: /Users/charles/src/zelda-mid/lozoos-z_OofStarmruins.mid it took 4.342607999999984\n",
      "Converted: /Users/charles/src/zelda-mid/lozph-Siwan3.mid it took 2.0120430000000056\n",
      "Converted: /Users/charles/src/zelda-mid/z64oot-z64lull.mid it took 0.8020730000000071\n",
      "Converted: /Users/charles/src/zelda-mid/lozmm-Deku_palace.mid it took 4.904814000000044\n",
      "Converted: /Users/charles/src/zelda-mid/lozoos-skullpirates.mid it took 0.8490830000000074\n",
      "Converted: /Users/charles/src/zelda-mid/z64oot-z64gerud.mid it took 6.856989999999996\n",
      "Converted: /Users/charles/src/zelda-mid/z64oot-z64geru2.mid it took 4.755199000000005\n",
      "Converted: /Users/charles/src/zelda-mid/lozph-zph-island.mid it took 0.600260999999989\n",
      "Converted: /Users/charles/src/zelda-mid/Z4bottlegrotto.mid it took 2.429561000000035\n",
      "Converted: /Users/charles/src/zelda-mid/z2-lastempl.mid it took 2.135154\n",
      "Converted: /Users/charles/src/zelda-mid/z3alttp-z3darkw2.mid it took 8.470578999999987\n",
      "Converted: /Users/charles/src/zelda-mid/z3alttp-z3castl1.mid it took 1.0704279999999926\n",
      "Converted: /Users/charles/src/zelda-mid/z2-z2house.mid it took 0.17306800000000067\n",
      "Converted: /Users/charles/src/zelda-mid/Z4angler.mid it took 0.5970699999999738\n",
      "Converted: /Users/charles/src/zelda-mid/loz-Title02.mid it took 2.4033880000000067\n",
      "Converted: /Users/charles/src/zelda-mid/loz-Ending.mid it took 2.384180000000015\n",
      "Converted: /Users/charles/src/zelda-mid/lozww-The_great_sea.mid it took 170.07087099999995\n",
      "Converted: /Users/charles/src/zelda-mid/z64oot-z64water.mid it took 1.4735450000000583\n",
      "Converted: /Users/charles/src/zelda-mid/loz-Title03.mid it took 3.7152210000000423\n",
      "Converted: /Users/charles/src/zelda-mid/loz-Medley.mid it took 20.623288000000002\n",
      "Converted: /Users/charles/src/zelda-mid/z3alttp-z3darkw1.mid it took 4.146448000000078\n",
      "Converted: /Users/charles/src/zelda-mid/lozooa-ralph.mid it took 0.884563000000071\n",
      "Converted: /Users/charles/src/zelda-mid/z3alttp-z3castl2.mid it took 4.36821800000007\n",
      "Converted: /Users/charles/src/zelda-mid/Z4rapids.mid it took 1.3310699999999542\n",
      "Converted: /Users/charles/src/zelda-mid/lozww-Forest_haven.mid it took 1.85182599999996\n",
      "Converted: /Users/charles/src/zelda-mid/loz-Title07.mid it took 1.767189999999914\n",
      "Converted: /Users/charles/src/zelda-mid/lozmm-Snowhead.mid it took 0.8509530000000041\n",
      "Converted: /Users/charles/src/zelda-mid/z64oot-z64lnkhs.mid it took 1.0039960000000292\n",
      "Converted: /Users/charles/src/zelda-mid/Z4keycavern.mid it took 0.6956519999999955\n",
      "Converted: /Users/charles/src/zelda-mid/Z4fairy.mid it took 0.8505780000000414\n",
      "Converted: /Users/charles/src/zelda-mid/lozph-ZeldaPhLinebackLeMarin.mid it took 1.1802769999999327\n",
      "Converted: /Users/charles/src/zelda-mid/Z4animal.mid it took 0.9913249999999607\n",
      "Converted: /Users/charles/src/zelda-mid/z2-z2temple.mid it took 4.039252000000033\n",
      "Converted: /Users/charles/src/zelda-mid/loz-Title06.mid it took 1.7123679999999695\n",
      "Converted: /Users/charles/src/zelda-mid/z2-z2cave.mid it took 0.908427999999958\n",
      "Converted: /Users/charles/src/zelda-mid/loz-Title04.mid it took 6.138077000000067\n",
      "Converted: /Users/charles/src/zelda-mid/Z4eagle.mid it took 1.9195250000000215\n",
      "Converted: /Users/charles/src/zelda-mid/lozph-menu_screen.mid it took 0.4750939999998991\n",
      "Converted: /Users/charles/src/zelda-mid/z64oot-z64lab.mid it took 2.297641999999996\n",
      "Converted: /Users/charles/src/zelda-mid/lozooa-z_OofAMakuroad.mid it took 0.3950519999999642\n",
      "Converted: /Users/charles/src/zelda-mid/z64oot-z64kokri.mid it took 1.9750890000000254\n",
      "Converted: /Users/charles/src/zelda-mid/Z4DXdungeon.mid it took 1.4876950000000306\n",
      "Converted: /Users/charles/src/zelda-mid/z2-z2ow.mid it took 0.9627480000000332\n",
      "Converted: /Users/charles/src/zelda-mid/z64oot-z64epona.mid it took 0.6629429999999275\n",
      "Converted: /Users/charles/src/zelda-mid/z64oot-z64temp2.mid it took 0.8209910000000491\n",
      "Converted: /Users/charles/src/zelda-mid/lozww-Overworld_theme.mid it took 2.2310899999999947\n",
      "Converted: /Users/charles/src/zelda-mid/loz-Title05.mid it took 0.8235620000000381\n",
      "Converted: /Users/charles/src/zelda-mid/lozooa-z_OofAcrescentisland.mid it took 1.320457000000033\n",
      "Converted: /Users/charles/src/zelda-mid/Z4mabe.mid it took 0.8462580000000344\n"
     ]
    }
   ],
   "source": [
    "import time\n",
    "loz_midi_files = glob.glob(\"/Users/charles/src/zelda-mid/loz-*.mid\")\n",
    "midi_files = glob.glob(\"/Users/charles/src/zelda-mid/*.mid\")\n",
    "\n",
    "training_arrays = []\n",
    "for f in midi_files:\n",
    "    start = time.clock()\n",
    "    try:\n",
    "        s = converter.parse(f)\n",
    "    except:\n",
    "        continue\n",
    "    arr = streamToNoteArray(s.parts[0])\n",
    "    training_arrays.append(arr)\n",
    "    print(\"Converted:\", f, \"it took\", time.clock() - start)\n",
    "\n",
    "training_dataset = np.array(training_arrays)\n",
    "np.savez('melody_training_dataset.npz', train=training_dataset)"
   ]
  },
  {
   "cell_type": "markdown",
   "metadata": {},
   "source": [
    "# Load Training Data and Create RNN"
   ]
  },
  {
   "cell_type": "code",
   "execution_count": 3,
   "metadata": {},
   "outputs": [],
   "source": [
    "# Training Hyperparameters:\n",
    "VOCABULARY_SIZE = 130 # known 0-127 notes + 128 note_off + 129 no_event\n",
    "SEQ_LEN = 30\n",
    "BATCH_SIZE = 64\n",
    "HIDDEN_UNITS = 256\n",
    "EPOCHS = 30\n",
    "SEED = 2345  # 2345 seems to be good.\n",
    "np.random.seed(SEED)"
   ]
  },
  {
   "cell_type": "code",
   "execution_count": 4,
   "metadata": {},
   "outputs": [
    {
     "name": "stdout",
     "output_type": "stream",
     "text": [
      "Training melodies: 186\n"
     ]
    }
   ],
   "source": [
    "with np.load('./melody_training_dataset.npz') as data:\n",
    "    train_set = data['train']\n",
    "    \n",
    "# train_set = [a.astype(np.int16) for a in train_set] # change to int16\n",
    "\n",
    "# for arr in train_set:\n",
    "#     arr[arr == -1] = 128 # new value for MELODY_NOTE_OFF\n",
    "#     arr[arr == -2] = 129 # new value for MELODY_NO_EVENT\n",
    "\n",
    "print(\"Training melodies:\", len(train_set))"
   ]
  },
  {
   "cell_type": "code",
   "execution_count": 7,
   "metadata": {},
   "outputs": [
    {
     "name": "stdout",
     "output_type": "stream",
     "text": [
      "Total Training Corpus:\n",
      "X: (122250, 30)\n",
      "y: (122250,)\n"
     ]
    }
   ],
   "source": [
    "def slice_sequence_examples(sequence, num_steps):\n",
    "    xs = []\n",
    "    for i in range(len(sequence) - num_steps - 1):\n",
    "        example = sequence[i: i + num_steps]\n",
    "        xs.append(example)\n",
    "    #print(\"Total training examples:\", str(len(xs)))\n",
    "    return xs\n",
    "\n",
    "def seq_to_singleton_format(examples):\n",
    "    \"\"\"\n",
    "    Return the examples in seq to singleton format.\n",
    "    \"\"\"\n",
    "    xs = []\n",
    "    ys = []\n",
    "    for ex in examples:\n",
    "        xs.append(ex[:-1])\n",
    "        ys.append(ex[-1])\n",
    "    return (xs,ys)\n",
    "\n",
    "# Prepare training data as X and Y.\n",
    "slices = []\n",
    "for seq in train_set:\n",
    "    slices +=  slice_sequence_examples(seq, SEQ_LEN+1)\n",
    "X, y = seq_to_singleton_format(slices)\n",
    "\n",
    "X = np.array(X)\n",
    "y = np.array(y)\n",
    "\n",
    "print(\"Total Training Corpus:\")\n",
    "print(\"X:\", X.shape)\n",
    "print(\"y:\", y.shape)"
   ]
  },
  {
   "cell_type": "markdown",
   "metadata": {},
   "source": [
    "# Define the Training RNN"
   ]
  },
  {
   "cell_type": "code",
   "execution_count": 10,
   "metadata": {},
   "outputs": [],
   "source": [
    "import keras\n",
    "from keras.models import Sequential\n",
    "from keras.layers import Dense, Activation\n",
    "from keras.layers import LSTM, Dropout\n",
    "from keras.layers.embeddings import Embedding\n",
    "from keras.optimizers import RMSprop\n",
    "from keras.utils.data_utils import get_file\n",
    "from keras.models import load_model"
   ]
  },
  {
   "cell_type": "code",
   "execution_count": 128,
   "metadata": {},
   "outputs": [
    {
     "name": "stdout",
     "output_type": "stream",
     "text": [
      "Build model...\n",
      "_________________________________________________________________\n",
      "Layer (type)                 Output Shape              Param #   \n",
      "=================================================================\n",
      "embedding_3 (Embedding)      (None, 30, 256)           33280     \n",
      "_________________________________________________________________\n",
      "lstm_5 (LSTM)                (None, 30, 256)           525312    \n",
      "_________________________________________________________________\n",
      "lstm_6 (LSTM)                (None, 256)               525312    \n",
      "_________________________________________________________________\n",
      "dense_3 (Dense)              (None, 130)               33410     \n",
      "=================================================================\n",
      "Total params: 1,117,314\n",
      "Trainable params: 1,117,314\n",
      "Non-trainable params: 0\n",
      "_________________________________________________________________\n"
     ]
    }
   ],
   "source": [
    "# build the model: a single LSTM\n",
    "print('Build model...')\n",
    "model_train = Sequential()\n",
    "model_train.add(Embedding(VOCABULARY_SIZE, HIDDEN_UNITS, input_length=SEQ_LEN))\n",
    "\n",
    "# LSTM part\n",
    "model_train.add(LSTM(HIDDEN_UNITS, return_sequences=True))\n",
    "model_train.add(LSTM(HIDDEN_UNITS))\n",
    "\n",
    "# Project back to vocabulary\n",
    "model_train.add(Dense(VOCABULARY_SIZE, activation='softmax'))\n",
    "model_train.compile(loss='sparse_categorical_crossentropy', optimizer='adam')\n",
    "model_train.summary()"
   ]
  },
  {
   "cell_type": "markdown",
   "metadata": {},
   "source": [
    "# Training"
   ]
  },
  {
   "cell_type": "code",
   "execution_count": 125,
   "metadata": {},
   "outputs": [
    {
     "name": "stdout",
     "output_type": "stream",
     "text": [
      "Epoch 1/100\n",
      " 10048/129069 [=>............................] - ETA: 5:45 - loss: 3.0500"
     ]
    },
    {
     "ename": "KeyboardInterrupt",
     "evalue": "",
     "output_type": "error",
     "traceback": [
      "\u001b[0;31m---------------------------------------------------------------------------\u001b[0m",
      "\u001b[0;31mKeyboardInterrupt\u001b[0m                         Traceback (most recent call last)",
      "\u001b[0;32m<ipython-input-125-e7298fbf37f2>\u001b[0m in \u001b[0;36m<module>\u001b[0;34m()\u001b[0m\n\u001b[0;32m----> 1\u001b[0;31m \u001b[0mmodel_train\u001b[0m\u001b[0;34m.\u001b[0m\u001b[0mfit\u001b[0m\u001b[0;34m(\u001b[0m\u001b[0mX\u001b[0m\u001b[0;34m,\u001b[0m \u001b[0my\u001b[0m\u001b[0;34m,\u001b[0m \u001b[0mbatch_size\u001b[0m\u001b[0;34m=\u001b[0m\u001b[0mBATCH_SIZE\u001b[0m\u001b[0;34m,\u001b[0m \u001b[0mepochs\u001b[0m\u001b[0;34m=\u001b[0m\u001b[0mEPOCHS\u001b[0m\u001b[0;34m)\u001b[0m\u001b[0;34m\u001b[0m\u001b[0m\n\u001b[0m\u001b[1;32m      2\u001b[0m \u001b[0mmodel_train\u001b[0m\u001b[0;34m.\u001b[0m\u001b[0msave\u001b[0m\u001b[0;34m(\u001b[0m\u001b[0;34m\"zeldic-rnn.h5\"\u001b[0m\u001b[0;34m)\u001b[0m\u001b[0;34m\u001b[0m\u001b[0m\n",
      "\u001b[0;32m/usr/local/lib/python3.6/site-packages/keras/engine/training.py\u001b[0m in \u001b[0;36mfit\u001b[0;34m(self, x, y, batch_size, epochs, verbose, callbacks, validation_split, validation_data, shuffle, class_weight, sample_weight, initial_epoch, steps_per_epoch, validation_steps, **kwargs)\u001b[0m\n\u001b[1;32m   1040\u001b[0m                                         \u001b[0minitial_epoch\u001b[0m\u001b[0;34m=\u001b[0m\u001b[0minitial_epoch\u001b[0m\u001b[0;34m,\u001b[0m\u001b[0;34m\u001b[0m\u001b[0m\n\u001b[1;32m   1041\u001b[0m                                         \u001b[0msteps_per_epoch\u001b[0m\u001b[0;34m=\u001b[0m\u001b[0msteps_per_epoch\u001b[0m\u001b[0;34m,\u001b[0m\u001b[0;34m\u001b[0m\u001b[0m\n\u001b[0;32m-> 1042\u001b[0;31m                                         validation_steps=validation_steps)\n\u001b[0m\u001b[1;32m   1043\u001b[0m \u001b[0;34m\u001b[0m\u001b[0m\n\u001b[1;32m   1044\u001b[0m     def evaluate(self, x=None, y=None,\n",
      "\u001b[0;32m/usr/local/lib/python3.6/site-packages/keras/engine/training_arrays.py\u001b[0m in \u001b[0;36mfit_loop\u001b[0;34m(model, f, ins, out_labels, batch_size, epochs, verbose, callbacks, val_f, val_ins, shuffle, callback_metrics, initial_epoch, steps_per_epoch, validation_steps)\u001b[0m\n\u001b[1;32m    197\u001b[0m                     \u001b[0mins_batch\u001b[0m\u001b[0;34m[\u001b[0m\u001b[0mi\u001b[0m\u001b[0;34m]\u001b[0m \u001b[0;34m=\u001b[0m \u001b[0mins_batch\u001b[0m\u001b[0;34m[\u001b[0m\u001b[0mi\u001b[0m\u001b[0;34m]\u001b[0m\u001b[0;34m.\u001b[0m\u001b[0mtoarray\u001b[0m\u001b[0;34m(\u001b[0m\u001b[0;34m)\u001b[0m\u001b[0;34m\u001b[0m\u001b[0m\n\u001b[1;32m    198\u001b[0m \u001b[0;34m\u001b[0m\u001b[0m\n\u001b[0;32m--> 199\u001b[0;31m                 \u001b[0mouts\u001b[0m \u001b[0;34m=\u001b[0m \u001b[0mf\u001b[0m\u001b[0;34m(\u001b[0m\u001b[0mins_batch\u001b[0m\u001b[0;34m)\u001b[0m\u001b[0;34m\u001b[0m\u001b[0m\n\u001b[0m\u001b[1;32m    200\u001b[0m                 \u001b[0;32mif\u001b[0m \u001b[0;32mnot\u001b[0m \u001b[0misinstance\u001b[0m\u001b[0;34m(\u001b[0m\u001b[0mouts\u001b[0m\u001b[0;34m,\u001b[0m \u001b[0mlist\u001b[0m\u001b[0;34m)\u001b[0m\u001b[0;34m:\u001b[0m\u001b[0;34m\u001b[0m\u001b[0m\n\u001b[1;32m    201\u001b[0m                     \u001b[0mouts\u001b[0m \u001b[0;34m=\u001b[0m \u001b[0;34m[\u001b[0m\u001b[0mouts\u001b[0m\u001b[0;34m]\u001b[0m\u001b[0;34m\u001b[0m\u001b[0m\n",
      "\u001b[0;32m/usr/local/lib/python3.6/site-packages/keras/backend/tensorflow_backend.py\u001b[0m in \u001b[0;36m__call__\u001b[0;34m(self, inputs)\u001b[0m\n\u001b[1;32m   2659\u001b[0m                 \u001b[0;32mreturn\u001b[0m \u001b[0mself\u001b[0m\u001b[0;34m.\u001b[0m\u001b[0m_legacy_call\u001b[0m\u001b[0;34m(\u001b[0m\u001b[0minputs\u001b[0m\u001b[0;34m)\u001b[0m\u001b[0;34m\u001b[0m\u001b[0m\n\u001b[1;32m   2660\u001b[0m \u001b[0;34m\u001b[0m\u001b[0m\n\u001b[0;32m-> 2661\u001b[0;31m             \u001b[0;32mreturn\u001b[0m \u001b[0mself\u001b[0m\u001b[0;34m.\u001b[0m\u001b[0m_call\u001b[0m\u001b[0;34m(\u001b[0m\u001b[0minputs\u001b[0m\u001b[0;34m)\u001b[0m\u001b[0;34m\u001b[0m\u001b[0m\n\u001b[0m\u001b[1;32m   2662\u001b[0m         \u001b[0;32melse\u001b[0m\u001b[0;34m:\u001b[0m\u001b[0;34m\u001b[0m\u001b[0m\n\u001b[1;32m   2663\u001b[0m             \u001b[0;32mif\u001b[0m \u001b[0mpy_any\u001b[0m\u001b[0;34m(\u001b[0m\u001b[0mis_tensor\u001b[0m\u001b[0;34m(\u001b[0m\u001b[0mx\u001b[0m\u001b[0;34m)\u001b[0m \u001b[0;32mfor\u001b[0m \u001b[0mx\u001b[0m \u001b[0;32min\u001b[0m \u001b[0minputs\u001b[0m\u001b[0;34m)\u001b[0m\u001b[0;34m:\u001b[0m\u001b[0;34m\u001b[0m\u001b[0m\n",
      "\u001b[0;32m/usr/local/lib/python3.6/site-packages/keras/backend/tensorflow_backend.py\u001b[0m in \u001b[0;36m_call\u001b[0;34m(self, inputs)\u001b[0m\n\u001b[1;32m   2629\u001b[0m                                 \u001b[0msymbol_vals\u001b[0m\u001b[0;34m,\u001b[0m\u001b[0;34m\u001b[0m\u001b[0m\n\u001b[1;32m   2630\u001b[0m                                 session)\n\u001b[0;32m-> 2631\u001b[0;31m         \u001b[0mfetched\u001b[0m \u001b[0;34m=\u001b[0m \u001b[0mself\u001b[0m\u001b[0;34m.\u001b[0m\u001b[0m_callable_fn\u001b[0m\u001b[0;34m(\u001b[0m\u001b[0;34m*\u001b[0m\u001b[0marray_vals\u001b[0m\u001b[0;34m)\u001b[0m\u001b[0;34m\u001b[0m\u001b[0m\n\u001b[0m\u001b[1;32m   2632\u001b[0m         \u001b[0;32mreturn\u001b[0m \u001b[0mfetched\u001b[0m\u001b[0;34m[\u001b[0m\u001b[0;34m:\u001b[0m\u001b[0mlen\u001b[0m\u001b[0;34m(\u001b[0m\u001b[0mself\u001b[0m\u001b[0;34m.\u001b[0m\u001b[0moutputs\u001b[0m\u001b[0;34m)\u001b[0m\u001b[0;34m]\u001b[0m\u001b[0;34m\u001b[0m\u001b[0m\n\u001b[1;32m   2633\u001b[0m \u001b[0;34m\u001b[0m\u001b[0m\n",
      "\u001b[0;32m/usr/local/lib/python3.6/site-packages/tensorflow/python/client/session.py\u001b[0m in \u001b[0;36m__call__\u001b[0;34m(self, *args)\u001b[0m\n\u001b[1;32m   1449\u001b[0m         \u001b[0;32mif\u001b[0m \u001b[0mself\u001b[0m\u001b[0;34m.\u001b[0m\u001b[0m_session\u001b[0m\u001b[0;34m.\u001b[0m\u001b[0m_created_with_new_api\u001b[0m\u001b[0;34m:\u001b[0m\u001b[0;34m\u001b[0m\u001b[0m\n\u001b[1;32m   1450\u001b[0m           return tf_session.TF_SessionRunCallable(\n\u001b[0;32m-> 1451\u001b[0;31m               self._session._session, self._handle, args, status, None)\n\u001b[0m\u001b[1;32m   1452\u001b[0m         \u001b[0;32melse\u001b[0m\u001b[0;34m:\u001b[0m\u001b[0;34m\u001b[0m\u001b[0m\n\u001b[1;32m   1453\u001b[0m           return tf_session.TF_DeprecatedSessionRunCallable(\n",
      "\u001b[0;31mKeyboardInterrupt\u001b[0m: "
     ]
    }
   ],
   "source": [
    "model_train.fit(X, y, batch_size=BATCH_SIZE, epochs=EPOCHS)\n",
    "model_train.save(\"zeldic-rnn.h5\")"
   ]
  },
  {
   "cell_type": "code",
   "execution_count": 12,
   "metadata": {},
   "outputs": [
    {
     "ename": "AttributeError",
     "evalue": "type object 'Model' has no attribute 'load'",
     "output_type": "error",
     "traceback": [
      "\u001b[0;31m---------------------------------------------------------------------------\u001b[0m",
      "\u001b[0;31mAttributeError\u001b[0m                            Traceback (most recent call last)",
      "\u001b[0;32m<ipython-input-12-33f3f4c9078b>\u001b[0m in \u001b[0;36m<module>\u001b[0;34m()\u001b[0m\n\u001b[1;32m      1\u001b[0m \u001b[0;31m# Load if necessary\u001b[0m\u001b[0;34m\u001b[0m\u001b[0;34m\u001b[0m\u001b[0m\n\u001b[0;32m----> 2\u001b[0;31m \u001b[0mmodel_train\u001b[0m \u001b[0;34m=\u001b[0m \u001b[0mkeras\u001b[0m\u001b[0;34m.\u001b[0m\u001b[0mModel\u001b[0m\u001b[0;34m.\u001b[0m\u001b[0mload\u001b[0m\u001b[0;34m(\u001b[0m\u001b[0;34m\"zeldic-rnn.h5\"\u001b[0m\u001b[0;34m)\u001b[0m\u001b[0;34m\u001b[0m\u001b[0m\n\u001b[0m",
      "\u001b[0;31mAttributeError\u001b[0m: type object 'Model' has no attribute 'load'"
     ]
    }
   ],
   "source": [
    "# Load if necessary\n",
    "#model_train = keras.Model.load(\"zeldic-rnn.h5\")"
   ]
  },
  {
   "cell_type": "code",
   "execution_count": 13,
   "metadata": {},
   "outputs": [
    {
     "name": "stdout",
     "output_type": "stream",
     "text": [
      "_________________________________________________________________\n",
      "Layer (type)                 Output Shape              Param #   \n",
      "=================================================================\n",
      "embedding_1 (Embedding)      (1, 1, 256)               33280     \n",
      "_________________________________________________________________\n",
      "lstm_1 (LSTM)                (1, 1, 256)               525312    \n",
      "_________________________________________________________________\n",
      "lstm_2 (LSTM)                (1, 256)                  525312    \n",
      "_________________________________________________________________\n",
      "dense_1 (Dense)              (1, 130)                  33410     \n",
      "=================================================================\n",
      "Total params: 1,117,314\n",
      "Trainable params: 1,117,314\n",
      "Non-trainable params: 0\n",
      "_________________________________________________________________\n"
     ]
    }
   ],
   "source": [
    "# Build a decoding model (input length 1, batch size 1, stateful)\n",
    "model_dec = Sequential()\n",
    "model_dec.add(Embedding(VOCABULARY_SIZE, HIDDEN_UNITS, input_length=1, batch_input_shape=(1,1)))\n",
    "# LSTM part\n",
    "model_dec.add(LSTM(HIDDEN_UNITS, stateful=True, return_sequences=True))\n",
    "model_dec.add(LSTM(HIDDEN_UNITS, stateful=True))\n",
    "\n",
    "# project back to vocabulary\n",
    "model_dec.add(Dense(VOCABULARY_SIZE, activation='softmax'))\n",
    "model_dec.compile(loss='sparse_categorical_crossentropy', optimizer='adam')\n",
    "model_dec.summary()\n",
    "# set weights from training model\n",
    "#model_dec.set_weights(model_train.get_weights())\n",
    "model_dec.load_weights(\"zeldic-rnn.h5\")"
   ]
  },
  {
   "cell_type": "markdown",
   "metadata": {},
   "source": [
    "# Sampling from the Model"
   ]
  },
  {
   "cell_type": "code",
   "execution_count": 14,
   "metadata": {},
   "outputs": [],
   "source": [
    "def sample(preds, temperature=1.0):\n",
    "    # helper function to sample an index from a probability array\n",
    "    preds = np.asarray(preds).astype('float64')\n",
    "    preds = np.log(preds) / temperature\n",
    "    exp_preds = np.exp(preds)\n",
    "    preds = exp_preds / np.sum(exp_preds)\n",
    "    probas = np.random.multinomial(1, preds, 1)\n",
    "    return np.argmax(probas)"
   ]
  },
  {
   "cell_type": "code",
   "execution_count": 15,
   "metadata": {},
   "outputs": [],
   "source": [
    "## Sampling function\n",
    "\n",
    "def sample_model(seed, model_name, length=400):\n",
    "    '''Samples a musicRNN given a seed sequence.'''\n",
    "    generated = []  \n",
    "    generated.append(seed)\n",
    "    next_index = seed\n",
    "    for i in range(length):\n",
    "        x = np.array([next_index])\n",
    "        x = np.reshape(x,(1,1))\n",
    "        preds = model_name.predict(x, verbose=0)[0]\n",
    "        next_index = sample(preds, 1.0)        \n",
    "        generated.append(next_index)\n",
    "    return np.array(generated)"
   ]
  },
  {
   "cell_type": "code",
   "execution_count": 22,
   "metadata": {},
   "outputs": [
    {
     "data": {
      "image/png": "[encoded data removed]",
      "text/plain": [
       "<IPython.core.display.Image object>"
      ]
     },
     "metadata": {
      "image/png": {
       "height": 210,
       "width": 751
      }
     },
     "output_type": "display_data"
    }
   ],
   "source": [
    "model_dec.reset_states()\n",
    "o = sample_model(60, model_dec, length=63)\n",
    "o[o == 128] = -1 # put back melody_note_off\n",
    "o[o == 129] = -2 # put back melody_no_event\n",
    "\n",
    "melody_stream = noteArrayToStream(o)\n",
    "melody_stream.show()\n"
   ]
  },
  {
   "cell_type": "markdown",
   "metadata": {},
   "source": [
    "# Play back generated Melody"
   ]
  },
  {
   "cell_type": "code",
   "execution_count": 23,
   "metadata": {},
   "outputs": [],
   "source": [
    "## Pay a melody stream\n",
    "sp = midi.realtime.StreamPlayer(melody_stream)\n",
    "sp.play()"
   ]
  }
 ],
 "metadata": {
  "kernelspec": {
   "display_name": "Python 3",
   "language": "python",
   "name": "python3"
  },
  "language_info": {
   "codemirror_mode": {
    "name": "ipython",
    "version": 3
   },
   "file_extension": ".py",
   "mimetype": "text/x-python",
   "name": "python",
   "nbconvert_exporter": "python",
   "pygments_lexer": "ipython3",
   "version": "3.6.5"
  }
 },
 "nbformat": 4,
 "nbformat_minor": 2
}
